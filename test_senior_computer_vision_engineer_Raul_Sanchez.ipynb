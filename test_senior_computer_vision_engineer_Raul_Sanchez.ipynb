{
  "nbformat": 4,
  "nbformat_minor": 0,
  "metadata": {
    "colab": {
      "name": " test senior computer vision engineer Raul Sanchez.ipynb",
      "private_outputs": true,
      "provenance": []
    },
    "kernelspec": {
      "name": "python3",
      "display_name": "Python 3"
    },
    "language_info": {
      "name": "python"
    },
    "accelerator": "GPU"
  },
  "cells": [
    {
      "cell_type": "code",
      "metadata": {
        "id": "5jXIX49r6g9j"
      },
      "source": [
        "from google.colab import drive\n",
        "drive.mount('/gdrive')\n",
        "%cd /gdrive"
      ],
      "execution_count": null,
      "outputs": []
    },
    {
      "cell_type": "code",
      "metadata": {
        "id": "cXQcnlqNCI6Q"
      },
      "source": [
        "!unzip /gdrive/MyDrive/CelebA_dataset/celeba-dataset.zip -d /content/\n"
      ],
      "execution_count": null,
      "outputs": []
    },
    {
      "cell_type": "code",
      "metadata": {
        "id": "rPqh4ukml9F9"
      },
      "source": [
        "import pandas as pd\n",
        "from keras.models import Model \n",
        "from keras.layers import Dropout, Dense, BatchNormalization\n",
        "from keras.applications.mobilenet_v2 import MobileNetV2\n",
        "from keras.preprocessing.image import ImageDataGenerator\n",
        "from keras.callbacks import ModelCheckpoint"
      ],
      "execution_count": null,
      "outputs": []
    },
    {
      "cell_type": "code",
      "metadata": {
        "id": "fRahW5yteefr"
      },
      "source": [
        "num_features = 4\n",
        "\n",
        "\n",
        "\n",
        "complete_dataset_df = pd.read_csv ('/content/celeba-dataset/list_attr_celeba.csv', usecols=[0,2,3,4,5])\n",
        "\n",
        "ev_part = pd.read_csv ('/content/celeba-dataset/list_eval_partition.csv')\n",
        "\n",
        "\n",
        "\n",
        "def build_model(num_features):\n",
        "  base = MobileNetV2(input_shape=(224, 224, 3),\n",
        "                     weights=None,\n",
        "                     include_top=False,\n",
        "                     pooling='avg')  \n",
        "  \n",
        "  # model top\n",
        "  x = base.output\n",
        "  x = Dense(100, activation='relu')(x)\n",
        "  x = BatchNormalization()(x)\n",
        "  x = Dropout(0.3)(x)\n",
        "  top = Dense(num_features, activation='sigmoid')(x)\n",
        "  \n",
        "  return Model(inputs=base.input, outputs=top)\n",
        "\n",
        "\n",
        "model = build_model(num_features=num_features)\n",
        "model.summary()\n"
      ],
      "execution_count": null,
      "outputs": []
    },
    {
      "cell_type": "code",
      "metadata": {
        "id": "7EToG7VsXT-i"
      },
      "source": [
        "training_set = complete_dataset_df.drop(ev_part[(ev_part['partition']!=0)].index)\n",
        "validation_set = complete_dataset_df.drop(ev_part[(ev_part['partition']!=1)].index)\n",
        "test_set = complete_dataset_df.drop(ev_part[(ev_part['partition']!=2)].index)\n",
        "\n",
        "#training_set.set_index('image_id', inplace=True)\n",
        "#validation_set.set_index('image_id', inplace=True)\n",
        "\n",
        "features_name= list(complete_dataset_df.columns)[1:]\n",
        "print(training_set)\n",
        "\n",
        "\n"
      ],
      "execution_count": null,
      "outputs": []
    },
    {
      "cell_type": "code",
      "metadata": {
        "id": "PLvVycIygGoW"
      },
      "source": [
        "\n",
        "\n",
        "train_datagen = ImageDataGenerator(rescale=1./255)\n",
        "valid_datagen = ImageDataGenerator(rescale=1./255)\n",
        "\n",
        "\n",
        "\n",
        "train_generator = train_datagen.flow_from_dataframe(\n",
        "    dataframe=training_set,\n",
        "    directory='/content/celeba-dataset/img_align_celeba',\n",
        "    x_col='image_id',\n",
        "    y_col=features_name,\n",
        "    target_size=(224, 224),\n",
        "    batch_size=100,\n",
        "    class_mode='raw'\n",
        ")\n",
        "\n",
        "valid_generator = valid_datagen.flow_from_dataframe(\n",
        "    dataframe=validation_set,\n",
        "    directory='/content/celeba-dataset/img_align_celeba',\n",
        "    x_col='image_id',\n",
        "    y_col=features_name,\n",
        "    target_size=(224, 224),\n",
        "    batch_size=100,\n",
        "    class_mode='raw'\n",
        ")\n",
        "\n",
        "\n"
      ],
      "execution_count": null,
      "outputs": []
    },
    {
      "cell_type": "code",
      "metadata": {
        "id": "G8mK1-2Hiavr"
      },
      "source": [
        "model.compile(loss='binary_crossentropy',\n",
        "              optimizer='adadelta',\n",
        "              metrics='binary_accuracy')"
      ],
      "execution_count": null,
      "outputs": []
    },
    {
      "cell_type": "code",
      "metadata": {
        "id": "zapYFhCPop3u"
      },
      "source": [
        "\n",
        "model_path = f\"/content/weights-FC{num_features}-MobileNetV2\" + \"{val_binary_accuracy:.2f}.hdf5\"\n",
        "\n",
        "checkpoint = ModelCheckpoint(\n",
        "    model_path,\n",
        "    monitor='val_binary_accuracy',\n",
        "    save_best_only=True,\n",
        "    mode='max',\n",
        "    verbose=1)\n",
        "\n",
        "\n",
        "history = model.fit(\n",
        "    train_generator,\n",
        "    epochs=3,\n",
        "    steps_per_epoch=len(train_generator),\n",
        "    validation_data=valid_generator,\n",
        "    validation_steps=len(valid_generator),\n",
        "    max_queue_size=1,\n",
        "    shuffle=True,\n",
        "    callbacks=[checkpoint],\n",
        "    verbose=1)"
      ],
      "execution_count": null,
      "outputs": []
    },
    {
      "cell_type": "code",
      "metadata": {
        "id": "WHD8yVLoBH9C"
      },
      "source": [
        "import matplotlib.pyplot as plt\n",
        "\n",
        "\n",
        "def plot_model_history(history):\n",
        "\n",
        "  plt.plot(history.history['binary_accuracy'])\n",
        "  plt.plot(history.history['val_binary_accuracy'])\n",
        "  plt.title('Model accuracy')\n",
        "  plt.ylabel('Accuracy')\n",
        "  plt.xlabel('Epoch')\n",
        "  plt.legend(['Train', 'Validation'], loc='upper left')\n",
        "  plt.show()\n",
        "\n",
        "  \n",
        "  plt.plot(history.history['loss'])\n",
        "  plt.plot(history.history['val_loss'])\n",
        "  plt.title('Model loss')\n",
        "  plt.ylabel('Loss')\n",
        "  plt.xlabel('Epoch')\n",
        "  plt.legend(['Train', 'Validation'], loc='upper left')\n",
        "  plt.show()\n",
        "\n",
        "  \n",
        "plot_model_history(history)"
      ],
      "execution_count": null,
      "outputs": []
    }
  ]
}